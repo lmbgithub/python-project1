{
 "cells": [
  {
   "cell_type": "code",
   "execution_count": 1,
   "id": "45793dca-83dd-49de-a7c5-0fee11735e01",
   "metadata": {},
   "outputs": [
    {
     "ename": "SyntaxError",
     "evalue": "invalid syntax (3093160175.py, line 3)",
     "output_type": "error",
     "traceback": [
      "\u001b[0;36m  Cell \u001b[0;32mIn [1], line 3\u001b[0;36m\u001b[0m\n\u001b[0;31m    Simple instructions to install and use Camera Simulator package\u001b[0m\n\u001b[0m           ^\u001b[0m\n\u001b[0;31mSyntaxError\u001b[0m\u001b[0;31m:\u001b[0m invalid syntax\n"
     ]
    }
   ],
   "source": [
    "# Python Project #1: Camera Simulator\n",
    "\n",
    "This is a simple example of creating and consuming a distributable Python package. \n",
    "\n",
    "# Contents\n",
    "\n",
    "- `camera-simulator` contains a project directory for a Python package. Note that its only content is the `camera-simulator/src` directory for now. If you wanted to add tests or something you could put those in `camera-simulator/tests` or something.\n",
    "- `camera-simulator/src/camera-simulator` is the actual \"package\". In accordance with Python's [documented behavior](https://docs.python.org/3.9/tutorial/modules.html#tut-packages), the directory is a package because it contains an `__init__.py` file.\n",
    "\n",
    "# FAQ\n",
    "\n",
    "## How do I install and use a package in Development Mode?\n",
    "\n",
    "[Development Mode](https://setuptools.pypa.io/en/latest/userguide/quickstart.html) installs the package in \"editable\" mode so that you can change the source for your package in the actual source directory and consuming Python scripts/applications will see your edits the next time they run. \n",
    "\n",
    "## How do I Package/Bundle/Zip/Prepare my source code into a distributable package that I can distribute to others to use in their own Python apps?\n",
    "\n",
    "Run `python -m build` to prepare your package source code for distribution. This will deploy a distributable Python package into `camera_simulator/src/dist/camera_simulator-0.0.1.tar.gz`.\n",
    "\n",
    "## How do other users install the package once it's built?\n",
    "\n",
    "Other users can run `pip install camera_simulator-0.0.1.tar.gz` to install your package.\n",
    "\n",
    "Alternatively, you can [upload your built package to PyPI](https://packaging.python.org/distributing/#uploading-your-project-to-pypi) and then they can install it by running `pip install camera_simulator`.\n",
    "\n",
    "## What are the differences between \"Python Packages\" and eggs?\n",
    "\n",
    "I've been trying to figure that out myself. I can tell you that eggs appear to [essentially be deprecated](https://packaging.python.org/discussions/wheel-vs-egg/) and as noted on the previously linked python.org site _Wheel is currently considered the standard for built and binary packaging for Python._ Therefore I no longer maintain an example of building eggs, but some docs you might find interesting are as follows: \"Python Packages\" are documented at https://packaging.python.org/distributing/ and Eggs are documented at http://peak.telecommunity.com/DevCenter/PythonEggs\n",
    "\n",
    "# Troubleshooting\n",
    "\n",
    "## After installing the package I still see the error 'ImportError: No module named Camera Simulator' when trying to use it in a script/app.\n",
    "\n",
    "It is important that the `setup.py` is in the **parent** of the actual root package folder. If you don't do this you won't get any errors, and pip will show you're package as installed (e.g. with `pip show Camera Simulator`) but consuming scripts of the package won't ever find the package and will always get the `ImportError`.\n",
    "\n",
    "So this also implies that the \"package\" isn't what you specify as the name of your package in `setup.py`. Although `pip` uses the name in `setup.py` to determine whether it is installed, Python itself only cares about the directory that contains the `__init__.py` file."
   ]
  },
  {
   "cell_type": "code",
   "execution_count": null,
   "id": "2905755c-a39d-47a8-9ae2-d02d825eb9f5",
   "metadata": {},
   "outputs": [],
   "source": []
  }
 ],
 "metadata": {
  "kernelspec": {
   "display_name": "Python 3.9.13 64-bit ('3.9.13')",
   "language": "python",
   "name": "python3"
  },
  "language_info": {
   "codemirror_mode": {
    "name": "ipython",
    "version": 3
   },
   "file_extension": ".py",
   "mimetype": "text/x-python",
   "name": "python",
   "nbconvert_exporter": "python",
   "pygments_lexer": "ipython3",
   "version": "3.9.13"
  },
  "vscode": {
   "interpreter": {
    "hash": "4d6dca3a319fadecade039374b9ab6e8e812b3b531f8b5909afdbe055dfb4d16"
   }
  }
 },
 "nbformat": 4,
 "nbformat_minor": 5
}

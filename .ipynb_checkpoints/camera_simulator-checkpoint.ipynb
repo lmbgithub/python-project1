{
 "cells": [
  {
   "cell_type": "code",
   "execution_count": null,
   "id": "45793dca-83dd-49de-a7c5-0fee11735e01",
   "metadata": {},
   "outputs": [],
   "source": [
    "# Camera Simulator: Notebook\n",
    "\n",
    "Simple instructions to install and use Camera Simulator package\n",
    "\n",
    "## Steps:\n",
    "- lorem ipsum\n",
    "- lorem ipsum"
   ]
  }
 ],
 "metadata": {
  "kernelspec": {
   "display_name": "Python 3 (ipykernel)",
   "language": "python",
   "name": "python3"
  },
  "language_info": {
   "codemirror_mode": {
    "name": "ipython",
    "version": 3
   },
   "file_extension": ".py",
   "mimetype": "text/x-python",
   "name": "python",
   "nbconvert_exporter": "python",
   "pygments_lexer": "ipython3",
   "version": "3.9.13"
  }
 },
 "nbformat": 4,
 "nbformat_minor": 5
}
